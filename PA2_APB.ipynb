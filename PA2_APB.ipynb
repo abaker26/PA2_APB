{
 "cells": [
  {
   "cell_type": "markdown",
   "id": "c61cd85b-2664-4f5c-bdfb-209181f6af08",
   "metadata": {},
   "source": [
    "# Programming Assignment 2\n",
    "---\n",
    "**Author:** Allie Baker  \n",
    "**Version:** 1.0  \n",
    "**Semester:** Spring 2024 \n",
    "\n",
    "This *notebook* contains my solution(s) to **Programming Assignment 2**"
   ]
  },
  {
   "cell_type": "markdown",
   "id": "18af3900-4ff7-41d2-a811-a480d9cf26af",
   "metadata": {},
   "source": [
    "### Problem 1 - Printing Numbers"
   ]
  },
  {
   "cell_type": "code",
   "execution_count": 1,
   "id": "d6cc7734-eddb-4971-8ef8-8263c5ac838e",
   "metadata": {},
   "outputs": [
    {
     "name": "stdout",
     "output_type": "stream",
     "text": [
      "0\n",
      "1\n",
      "2\n",
      "3\n",
      "4\n",
      "5\n",
      "6 *\n",
      "7\n",
      "8\n",
      "9 *\n",
      "10\n",
      "11\n",
      "12 *\n",
      "13\n",
      "14\n",
      "15 *\n",
      "16\n",
      "17\n",
      "18 *\n",
      "19\n",
      "20\n",
      "21 *\n",
      "22\n",
      "23\n",
      "24 *\n",
      "25\n",
      "26\n",
      "27 *\n",
      "28\n",
      "29\n",
      "30 *\n",
      "31\n",
      "32\n",
      "33 *\n",
      "34\n",
      "35\n",
      "36 *\n",
      "37\n",
      "38\n",
      "39 *\n",
      "40\n",
      "41\n",
      "42 *\n",
      "43\n",
      "44\n",
      "45 *\n",
      "46\n",
      "47\n",
      "48 *\n",
      "49\n",
      "50\n",
      "51 *\n",
      "52\n",
      "53\n",
      "54 *\n",
      "55\n",
      "56\n",
      "57 *\n",
      "58\n",
      "59\n",
      "60 *\n",
      "61\n",
      "62\n",
      "63 *\n",
      "64\n",
      "65\n",
      "66 *\n",
      "67\n",
      "68\n",
      "69 *\n",
      "70\n",
      "71\n",
      "72 *\n",
      "73\n",
      "74\n",
      "75 *\n",
      "76\n",
      "77\n",
      "78 *\n",
      "79\n",
      "80\n",
      "81 *\n",
      "82\n",
      "83\n",
      "84 *\n",
      "85\n",
      "86\n",
      "87 *\n",
      "88\n",
      "89\n",
      "90 *\n",
      "91\n",
      "92\n",
      "93 *\n",
      "94\n",
      "95\n",
      "96 *\n",
      "97\n",
      "98\n",
      "99 *\n",
      "100\n"
     ]
    }
   ],
   "source": [
    "for number in range(101):\n",
    "    if number%3==0 and number !=0 and number !=3:\n",
    "        print(number, \"*\")\n",
    "    else:\n",
    "        print(number)"
   ]
  },
  {
   "cell_type": "markdown",
   "id": "6c9ac006-11a4-4cc3-940f-c9cda50e6f55",
   "metadata": {},
   "source": [
    "### Problem 2 - Age Status "
   ]
  },
  {
   "cell_type": "code",
   "execution_count": 2,
   "id": "730f7bd3-980f-4d7a-8f38-ffcc1031efdd",
   "metadata": {
    "tags": []
   },
   "outputs": [
    {
     "name": "stdin",
     "output_type": "stream",
     "text": [
      "What is the subject's age? 9\n"
     ]
    },
    {
     "name": "stdout",
     "output_type": "stream",
     "text": [
      "Minor\n"
     ]
    },
    {
     "name": "stdin",
     "output_type": "stream",
     "text": [
      "What is the subject's age? 69\n"
     ]
    },
    {
     "name": "stdout",
     "output_type": "stream",
     "text": [
      "Senior Citizen\n"
     ]
    },
    {
     "name": "stdin",
     "output_type": "stream",
     "text": [
      "What is the subject's age? 56\n"
     ]
    },
    {
     "name": "stdout",
     "output_type": "stream",
     "text": [
      "Adult\n"
     ]
    },
    {
     "name": "stdin",
     "output_type": "stream",
     "text": [
      "What is the subject's age? 0\n"
     ]
    },
    {
     "name": "stdout",
     "output_type": "stream",
     "text": [
      "Done!\n"
     ]
    }
   ],
   "source": [
    "age = int(input(\"What is the subject's age?\"))\n",
    "while age !=0:\n",
    "    if age < 18:\n",
    "        output = \"Minor\"\n",
    "    elif age >=18 and age < 65:\n",
    "        output = \"Adult\"\n",
    "    else: \n",
    "        output = \"Senior Citizen\"\n",
    "    print(output) \n",
    "    age = int(input(\"What is the subject's age?\"))\n",
    "print(\"Done!\")"
   ]
  },
  {
   "cell_type": "markdown",
   "id": "4c40af05-789f-445f-943e-2ba78203a727",
   "metadata": {},
   "source": [
    "### Problem 3 - Age Status v2"
   ]
  },
  {
   "cell_type": "code",
   "execution_count": 3,
   "id": "2773e727-5d4f-477d-be25-a4e12a16afbf",
   "metadata": {
    "tags": []
   },
   "outputs": [
    {
     "name": "stdout",
     "output_type": "stream",
     "text": [
      "65 : Senior Citizen\n",
      "78 : Senior Citizen\n",
      "34 : Adult\n",
      "56 : Adult\n",
      "12 : Minor\n",
      "9 : Minor\n",
      "43 : Adult\n",
      "67 : Senior Citizen\n"
     ]
    }
   ],
   "source": [
    "ages = [65,78,34,56,12,9,43,67]\n",
    "\n",
    "for age in ages:\n",
    "    if age < 18:\n",
    "        output = \"Minor\"\n",
    "    elif age >= 18 and age < 65:\n",
    "        output = \"Adult\"\n",
    "    else:\n",
    "        output = \"Senior Citizen\"\n",
    "    print(f\"{age} : {output}\")"
   ]
  },
  {
   "cell_type": "markdown",
   "id": "2077c159-8d58-441a-a793-bb9993275bb3",
   "metadata": {},
   "source": [
    "### Problem 4 - Calculating Pi"
   ]
  },
  {
   "cell_type": "code",
   "execution_count": 3,
   "id": "b5bb31e9-ca53-4d9b-9ec4-c51ea5a60d2a",
   "metadata": {
    "tags": []
   },
   "outputs": [
    {
     "name": "stdout",
     "output_type": "stream",
     "text": [
      "Pi Estimation Using Leibniz formula for  51  terms is:  3.1611986129870506\n",
      "Pi Estimation Using Leibniz formula for  501  terms is:  3.143588659585789\n",
      "Pi Estimation Using Leibniz formula for  5001  terms is:  3.1417926135957908\n",
      "Pi Estimation Using Leibniz formula for  50001  terms is:  3.141612653189785\n",
      "Pi Estimation Using Leibniz formula for  500001  terms is:  3.1415946535856922\n"
     ]
    }
   ],
   "source": [
    "iteration_list = [51, 501, 5001, 50001, 500001]\n",
    "pi_est = 0 \n",
    "i = 0\n",
    "\n",
    "for num in iteration_list:\n",
    "    while i < num:\n",
    "        pi_est += (-1)**i*1/(2.0*i+1.0)\n",
    "        i += 1 \n",
    "    print(\"Pi Estimation Using Leibniz formula for \", num, \" terms is: \", 4*pi_est)"
   ]
  },
  {
   "cell_type": "code",
   "execution_count": null,
   "id": "f4af0701-a52b-46c6-b66b-7f0fd78c2d2c",
   "metadata": {},
   "outputs": [],
   "source": []
  }
 ],
 "metadata": {
  "kernelspec": {
   "display_name": "Python 3 (ipykernel)",
   "language": "python",
   "name": "python3"
  },
  "language_info": {
   "codemirror_mode": {
    "name": "ipython",
    "version": 3
   },
   "file_extension": ".py",
   "mimetype": "text/x-python",
   "name": "python",
   "nbconvert_exporter": "python",
   "pygments_lexer": "ipython3",
   "version": "3.11.5"
  }
 },
 "nbformat": 4,
 "nbformat_minor": 5
}
